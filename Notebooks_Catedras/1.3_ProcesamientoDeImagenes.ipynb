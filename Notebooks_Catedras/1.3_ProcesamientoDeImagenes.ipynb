{
 "cells": [
  {
   "cell_type": "markdown",
   "metadata": {},
   "source": [
    "CC5213 - Recuperación de Información Multimedia\n",
    "=="
   ]
  },
  {
   "cell_type": "markdown",
   "metadata": {},
   "source": [
    "Slides 1.3 - Procesamiento de Imágenes\n",
    "=="
   ]
  },
  {
   "cell_type": "code",
   "execution_count": 1,
   "metadata": {},
   "outputs": [
    {
     "name": "stdout",
     "output_type": "stream",
     "text": [
      "Usando OpenCV 4.4.0 con Python 3.7.1\n"
     ]
    }
   ],
   "source": [
    "import sys\n",
    "import os\n",
    "import numpy\n",
    "import cv2\n",
    "from PyQt5.QtWidgets import QApplication, QFileDialog\n",
    "import matplotlib.pyplot as plt\n",
    "\n",
    "def mostrar_imagen(window_name, imagen):\n",
    "    MAX_WIDTH = 700\n",
    "    MAX_HEIGHT = 500\n",
    "    if imagen.shape[0] > MAX_HEIGHT or imagen.shape[1] > MAX_WIDTH:\n",
    "        #reducir tamaño\n",
    "        fh = MAX_HEIGHT / imagen.shape[0]\n",
    "        fw = MAX_WIDTH / imagen.shape[1]\n",
    "        escala = min(fh, fw)\n",
    "        imagen = cv2.resize(imagen, (0,0), fx=escala, fy=escala)\n",
    "    #mostrar en pantalla\n",
    "    cv2.imshow(window_name, imagen)\n",
    "\n",
    "def ui_select_filenames():\n",
    "    app = QApplication(list());\n",
    "    options = QFileDialog.Options()\n",
    "    files, _ = QFileDialog.getOpenFileNames(None, \"Imagenes\", \".\", \"Imagenes (*.jpg *.png)\", options=options)\n",
    "    return files\n",
    "\n",
    "def abrir_imagen(filename):\n",
    "    imagen_color = cv2.imread(filename, cv2.IMREAD_COLOR)\n",
    "    if imagen_color is None:\n",
    "        raise Exception(\"error abriendo {}\".format(filename))\n",
    "    return imagen_color\n",
    "\n",
    "def histograma_gris(imagen_8bits):\n",
    "    bins = range(0, 257, 1)\n",
    "    xticks = list(range(0, 256, 64))\n",
    "    xticks.append(255)\n",
    "    plt.hist(imagen_8bits.reshape(-1), bins=bins, density=True)\n",
    "    plt.xticks(xticks)\n",
    "    plt.xlabel('grises')\n",
    "    plt.ylabel('cantidad')\n",
    "    plt.title('Histograma de intensidades')\n",
    "    plt.show()\n",
    "\n",
    "print(\"Usando OpenCV {} con Python {}.{}.{}\".format(cv2.__version__, sys.version_info.major, sys.version_info.minor, sys.version_info.micro))\n"
   ]
  },
  {
   "cell_type": "markdown",
   "metadata": {},
   "source": [
    "## Ejemplo 1 - Histograma"
   ]
  },
  {
   "cell_type": "code",
   "execution_count": null,
   "metadata": {},
   "outputs": [],
   "source": [
    "def ejemplo(filename):\n",
    "    imagen_color = abrir_imagen(filename)\n",
    "    imagen_gris = cv2.cvtColor(imagen_color, cv2.COLOR_BGR2GRAY)\n",
    "    print (imagen_gris)\n",
    "    imagen_eq = cv2.equalizeHist(imagen_gris)\n",
    "    mostrar_imagen(filename + \" (gris)\", imagen_gris)\n",
    "    mostrar_imagen(filename + \" (eq)\", imagen_eq)\n",
    "    histograma_gris(imagen_gris)\n",
    "    histograma_gris(imagen_eq)\n",
    "\n",
    "filenames = ui_select_filenames()\n",
    "\n",
    "if len(filenames) > 0:\n",
    "    for filename in filenames:\n",
    "        ejemplo(filename)\n",
    "    cv2.waitKey(0)\n",
    "    cv2.destroyAllWindows()\n",
    "    \n",
    "print(\"FIN\")"
   ]
  },
  {
   "cell_type": "markdown",
   "metadata": {},
   "source": [
    "## Ejemplo 2 - OTSU"
   ]
  },
  {
   "cell_type": "code",
   "execution_count": null,
   "metadata": {
    "scrolled": true
   },
   "outputs": [],
   "source": [
    "def ejemplo(filename):\n",
    "    imagen_color = abrir_imagen(filename)\n",
    "    imagen_gris = cv2.cvtColor(imagen_color, cv2.COLOR_BGR2GRAY)\n",
    "    threshold, imagen_bin = cv2.threshold(imagen_gris, 0, 255, cv2.THRESH_BINARY | cv2.THRESH_OTSU)\n",
    "    mostrar_imagen(filename, imagen_color)\n",
    "    mostrar_imagen(filename + \" (gris)\", imagen_gris)\n",
    "    mostrar_imagen(filename + \" (bin)\", imagen_bin)\n",
    "    print (\"{} size={} threshold={}\".format(filename, imagen_color.shape, threshold))\n",
    "    histograma_gris(imagen_gris)\n",
    "    histograma_gris(imagen_bin)\n",
    "\n",
    "filenames = ui_select_filenames()\n",
    "\n",
    "if len(filenames) > 0:\n",
    "    for filename in filenames:\n",
    "        ejemplo(filename)\n",
    "    cv2.waitKey(0)\n",
    "    cv2.destroyAllWindows()\n",
    "    \n",
    "print(\"FIN\")"
   ]
  },
  {
   "cell_type": "code",
   "execution_count": null,
   "metadata": {},
   "outputs": [],
   "source": []
  }
 ],
 "metadata": {
  "kernelspec": {
   "display_name": "Python 3",
   "language": "python",
   "name": "python3"
  },
  "language_info": {
   "codemirror_mode": {
    "name": "ipython",
    "version": 3
   },
   "file_extension": ".py",
   "mimetype": "text/x-python",
   "name": "python",
   "nbconvert_exporter": "python",
   "pygments_lexer": "ipython3",
   "version": "3.7.1"
  }
 },
 "nbformat": 4,
 "nbformat_minor": 2
}
